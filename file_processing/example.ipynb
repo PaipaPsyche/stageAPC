{
 "cells": [
  {
   "cell_type": "code",
   "execution_count": 1,
   "metadata": {},
   "outputs": [],
   "source": [
    "#!pip install corsikaio"
   ]
  },
  {
   "cell_type": "code",
   "execution_count": 2,
   "metadata": {},
   "outputs": [],
   "source": [
    "import event\n",
    "import lhaaso_sim\n",
    "import numpy as np\n",
    "import matplotlib.pyplot as plt\n",
    "import seaborn as sns\n",
    "from corsikaio import CorsikaParticleFile\n",
    "import time"
   ]
  },
  {
   "cell_type": "markdown",
   "metadata": {},
   "source": [
    "### Input Data"
   ]
  },
  {
   "cell_type": "code",
   "execution_count": 3,
   "metadata": {},
   "outputs": [],
   "source": [
    "# create file\n",
    "dictID = { # name , charge, mass(GeV)\n",
    "    1:[\"photon\",0,0],\n",
    "    2:[\"e+\",1,0.000511],\n",
    "    3:[\"e-\",-1,0.000511],\n",
    "    5:[\"mu+\",1,0.105],\n",
    "    6:[\"mu-\",-1,0.105],\n",
    "    13:[\"neutron\",0,0.939],\n",
    "    14:[\"proton\",1,0.938]\n",
    "}\n",
    "\n",
    "\n",
    "in_dir = \"test/in/\"\n",
    "out_dir = \"test/out/\" \n",
    "\n",
    "f=CorsikaParticleFile(in_dir+'10showers')"
   ]
  },
  {
   "cell_type": "markdown",
   "metadata": {},
   "source": [
    "### Generating event dataframes\n",
    "\n",
    "files and particle info dictionaries can be converted into particle data objects using the `file_to_events` function. exporting a dataframe is a default configuration"
   ]
  },
  {
   "cell_type": "code",
   "execution_count": 4,
   "metadata": {
    "scrolled": true
   },
   "outputs": [
    {
     "name": "stdout",
     "output_type": "stream",
     "text": [
      "Total particles: 82180\n",
      "Total showers: 10\n"
     ]
    }
   ],
   "source": [
    "particle_events = lhaaso_sim.file_to_events(f,dictID)\n"
   ]
  },
  {
   "cell_type": "code",
   "execution_count": 5,
   "metadata": {},
   "outputs": [
    {
     "data": {
      "text/html": [
       "<div>\n",
       "<style scoped>\n",
       "    .dataframe tbody tr th:only-of-type {\n",
       "        vertical-align: middle;\n",
       "    }\n",
       "\n",
       "    .dataframe tbody tr th {\n",
       "        vertical-align: top;\n",
       "    }\n",
       "\n",
       "    .dataframe thead th {\n",
       "        text-align: right;\n",
       "    }\n",
       "</style>\n",
       "<table border=\"1\" class=\"dataframe\">\n",
       "  <thead>\n",
       "    <tr style=\"text-align: right;\">\n",
       "      <th></th>\n",
       "      <th>event</th>\n",
       "      <th>particle</th>\n",
       "      <th>energy</th>\n",
       "      <th>x</th>\n",
       "      <th>y</th>\n",
       "      <th>time</th>\n",
       "    </tr>\n",
       "  </thead>\n",
       "  <tbody>\n",
       "    <tr>\n",
       "      <th>0</th>\n",
       "      <td>1</td>\n",
       "      <td>mu-</td>\n",
       "      <td>2.288468</td>\n",
       "      <td>-65.812775</td>\n",
       "      <td>-30.622147</td>\n",
       "      <td>23903.589844</td>\n",
       "    </tr>\n",
       "    <tr>\n",
       "      <th>1</th>\n",
       "      <td>1</td>\n",
       "      <td>mu+</td>\n",
       "      <td>3.126502</td>\n",
       "      <td>77.675232</td>\n",
       "      <td>-119.962082</td>\n",
       "      <td>23905.664062</td>\n",
       "    </tr>\n",
       "    <tr>\n",
       "      <th>2</th>\n",
       "      <td>1</td>\n",
       "      <td>photon</td>\n",
       "      <td>0.036546</td>\n",
       "      <td>-11.267500</td>\n",
       "      <td>101.680412</td>\n",
       "      <td>23903.898438</td>\n",
       "    </tr>\n",
       "    <tr>\n",
       "      <th>3</th>\n",
       "      <td>1</td>\n",
       "      <td>e-</td>\n",
       "      <td>0.019774</td>\n",
       "      <td>-79.166840</td>\n",
       "      <td>21.051594</td>\n",
       "      <td>23919.376953</td>\n",
       "    </tr>\n",
       "    <tr>\n",
       "      <th>4</th>\n",
       "      <td>1</td>\n",
       "      <td>photon</td>\n",
       "      <td>0.068046</td>\n",
       "      <td>-22.374645</td>\n",
       "      <td>41.694393</td>\n",
       "      <td>23895.443359</td>\n",
       "    </tr>\n",
       "    <tr>\n",
       "      <th>...</th>\n",
       "      <td>...</td>\n",
       "      <td>...</td>\n",
       "      <td>...</td>\n",
       "      <td>...</td>\n",
       "      <td>...</td>\n",
       "      <td>...</td>\n",
       "    </tr>\n",
       "    <tr>\n",
       "      <th>79926</th>\n",
       "      <td>10</td>\n",
       "      <td>e-</td>\n",
       "      <td>0.070461</td>\n",
       "      <td>-6.114704</td>\n",
       "      <td>-5.274181</td>\n",
       "      <td>92642.890625</td>\n",
       "    </tr>\n",
       "    <tr>\n",
       "      <th>79927</th>\n",
       "      <td>10</td>\n",
       "      <td>e-</td>\n",
       "      <td>0.020128</td>\n",
       "      <td>-1.242648</td>\n",
       "      <td>-6.090666</td>\n",
       "      <td>92645.265625</td>\n",
       "    </tr>\n",
       "    <tr>\n",
       "      <th>79928</th>\n",
       "      <td>10</td>\n",
       "      <td>photon</td>\n",
       "      <td>0.051479</td>\n",
       "      <td>-6.820193</td>\n",
       "      <td>-5.175234</td>\n",
       "      <td>92642.765625</td>\n",
       "    </tr>\n",
       "    <tr>\n",
       "      <th>79929</th>\n",
       "      <td>10</td>\n",
       "      <td>e+</td>\n",
       "      <td>0.850253</td>\n",
       "      <td>-6.820210</td>\n",
       "      <td>-5.180696</td>\n",
       "      <td>92642.765625</td>\n",
       "    </tr>\n",
       "    <tr>\n",
       "      <th>79930</th>\n",
       "      <td>10</td>\n",
       "      <td>mu+</td>\n",
       "      <td>54.302534</td>\n",
       "      <td>-16.732971</td>\n",
       "      <td>-6.455175</td>\n",
       "      <td>92642.734375</td>\n",
       "    </tr>\n",
       "  </tbody>\n",
       "</table>\n",
       "<p>79931 rows × 6 columns</p>\n",
       "</div>"
      ],
      "text/plain": [
       "       event particle     energy          x           y          time\n",
       "0          1      mu-   2.288468 -65.812775  -30.622147  23903.589844\n",
       "1          1      mu+   3.126502  77.675232 -119.962082  23905.664062\n",
       "2          1   photon   0.036546 -11.267500  101.680412  23903.898438\n",
       "3          1       e-   0.019774 -79.166840   21.051594  23919.376953\n",
       "4          1   photon   0.068046 -22.374645   41.694393  23895.443359\n",
       "...      ...      ...        ...        ...         ...           ...\n",
       "79926     10       e-   0.070461  -6.114704   -5.274181  92642.890625\n",
       "79927     10       e-   0.020128  -1.242648   -6.090666  92645.265625\n",
       "79928     10   photon   0.051479  -6.820193   -5.175234  92642.765625\n",
       "79929     10       e+   0.850253  -6.820210   -5.180696  92642.765625\n",
       "79930     10      mu+  54.302534 -16.732971   -6.455175  92642.734375\n",
       "\n",
       "[79931 rows x 6 columns]"
      ]
     },
     "execution_count": 5,
     "metadata": {},
     "output_type": "execute_result"
    }
   ],
   "source": [
    "particle_events"
   ]
  },
  {
   "cell_type": "markdown",
   "metadata": {},
   "source": [
    "### Applying the LHAASO detectors mask\n",
    "\n",
    "the function `lhaaso_evaluate_events` applies a detector mask to the particle data with the characteristics of LHAASO observatory. It would be the same process as using the `build_lhaaso` functuon to generate the detectors and iterating over the detectors using the function `èvalulate_events`."
   ]
  },
  {
   "cell_type": "code",
   "execution_count": 6,
   "metadata": {},
   "outputs": [
    {
     "name": "stdout",
     "output_type": "stream",
     "text": [
      "DETECTOR GRID BUILT : em_scintillator_array \n",
      " 88 Detector lines \n",
      " 5324 Detectors \n",
      " Energy threshold 0.003 GeV\n",
      " detects  ['photon']\n",
      "DETECTOR GRID BUILT : muon_detector_array \n",
      " 44 Detector lines \n",
      " 1330 Detectors \n",
      " Energy threshold 1.3 GeV\n",
      " detects  ['proton', 'neutron', 'mu+', 'mu-']\n",
      "60325  particles within energy and type conditions\n",
      "em_scintillator_array: 313 particles\n",
      "1836  particles within energy and type conditions\n",
      "muon_detector_array: 102 particles\n",
      "total run time (s) :  13.33956003189087\n"
     ]
    }
   ],
   "source": [
    "t = time.time()\n",
    "detected_events = lhaaso_sim.lhaaso_evaluate_events(particle_events)\n",
    "print(\"total run time (s) : \",time.time() - t)  "
   ]
  },
  {
   "cell_type": "markdown",
   "metadata": {},
   "source": [
    "The results are compiles in a final dataframe with the function `build_final_df`. the origin particle ID code is given as a parameter if needed."
   ]
  },
  {
   "cell_type": "code",
   "execution_count": 7,
   "metadata": {
    "scrolled": true
   },
   "outputs": [
    {
     "data": {
      "text/html": [
       "<div>\n",
       "<style scoped>\n",
       "    .dataframe tbody tr th:only-of-type {\n",
       "        vertical-align: middle;\n",
       "    }\n",
       "\n",
       "    .dataframe tbody tr th {\n",
       "        vertical-align: top;\n",
       "    }\n",
       "\n",
       "    .dataframe thead th {\n",
       "        text-align: right;\n",
       "    }\n",
       "</style>\n",
       "<table border=\"1\" class=\"dataframe\">\n",
       "  <thead>\n",
       "    <tr style=\"text-align: right;\">\n",
       "      <th></th>\n",
       "      <th>shower</th>\n",
       "      <th>dt</th>\n",
       "      <th>dxy</th>\n",
       "      <th>E</th>\n",
       "      <th>em_scintillator_array</th>\n",
       "      <th>origin</th>\n",
       "      <th>muon_detector_array</th>\n",
       "    </tr>\n",
       "  </thead>\n",
       "  <tbody>\n",
       "    <tr>\n",
       "      <th>0</th>\n",
       "      <td>1</td>\n",
       "      <td>378</td>\n",
       "      <td>17196</td>\n",
       "      <td>608</td>\n",
       "      <td>35</td>\n",
       "      <td>14</td>\n",
       "      <td>33</td>\n",
       "    </tr>\n",
       "    <tr>\n",
       "      <th>1</th>\n",
       "      <td>2</td>\n",
       "      <td>51</td>\n",
       "      <td>8075</td>\n",
       "      <td>10</td>\n",
       "      <td>35</td>\n",
       "      <td>14</td>\n",
       "      <td>1</td>\n",
       "    </tr>\n",
       "    <tr>\n",
       "      <th>2</th>\n",
       "      <td>3</td>\n",
       "      <td>67</td>\n",
       "      <td>18250</td>\n",
       "      <td>292</td>\n",
       "      <td>53</td>\n",
       "      <td>14</td>\n",
       "      <td>8</td>\n",
       "    </tr>\n",
       "    <tr>\n",
       "      <th>3</th>\n",
       "      <td>4</td>\n",
       "      <td>193</td>\n",
       "      <td>17821</td>\n",
       "      <td>269</td>\n",
       "      <td>81</td>\n",
       "      <td>14</td>\n",
       "      <td>26</td>\n",
       "    </tr>\n",
       "    <tr>\n",
       "      <th>4</th>\n",
       "      <td>5</td>\n",
       "      <td>853</td>\n",
       "      <td>34203</td>\n",
       "      <td>30</td>\n",
       "      <td>6</td>\n",
       "      <td>14</td>\n",
       "      <td>5</td>\n",
       "    </tr>\n",
       "    <tr>\n",
       "      <th>5</th>\n",
       "      <td>6</td>\n",
       "      <td>29</td>\n",
       "      <td>11538</td>\n",
       "      <td>78</td>\n",
       "      <td>24</td>\n",
       "      <td>14</td>\n",
       "      <td>3</td>\n",
       "    </tr>\n",
       "    <tr>\n",
       "      <th>6</th>\n",
       "      <td>7</td>\n",
       "      <td>32</td>\n",
       "      <td>14797</td>\n",
       "      <td>31</td>\n",
       "      <td>10</td>\n",
       "      <td>14</td>\n",
       "      <td>3</td>\n",
       "    </tr>\n",
       "    <tr>\n",
       "      <th>7</th>\n",
       "      <td>8</td>\n",
       "      <td>45</td>\n",
       "      <td>13311</td>\n",
       "      <td>211</td>\n",
       "      <td>43</td>\n",
       "      <td>14</td>\n",
       "      <td>8</td>\n",
       "    </tr>\n",
       "    <tr>\n",
       "      <th>8</th>\n",
       "      <td>9</td>\n",
       "      <td>29</td>\n",
       "      <td>21025</td>\n",
       "      <td>127</td>\n",
       "      <td>6</td>\n",
       "      <td>14</td>\n",
       "      <td>8</td>\n",
       "    </tr>\n",
       "    <tr>\n",
       "      <th>9</th>\n",
       "      <td>10</td>\n",
       "      <td>89</td>\n",
       "      <td>16466</td>\n",
       "      <td>1152</td>\n",
       "      <td>20</td>\n",
       "      <td>14</td>\n",
       "      <td>7</td>\n",
       "    </tr>\n",
       "  </tbody>\n",
       "</table>\n",
       "</div>"
      ],
      "text/plain": [
       "   shower   dt    dxy     E  em_scintillator_array  origin  \\\n",
       "0       1  378  17196   608                     35      14   \n",
       "1       2   51   8075    10                     35      14   \n",
       "2       3   67  18250   292                     53      14   \n",
       "3       4  193  17821   269                     81      14   \n",
       "4       5  853  34203    30                      6      14   \n",
       "5       6   29  11538    78                     24      14   \n",
       "6       7   32  14797    31                     10      14   \n",
       "7       8   45  13311   211                     43      14   \n",
       "8       9   29  21025   127                      6      14   \n",
       "9      10   89  16466  1152                     20      14   \n",
       "\n",
       "   muon_detector_array  \n",
       "0                   33  \n",
       "1                    1  \n",
       "2                    8  \n",
       "3                   26  \n",
       "4                    5  \n",
       "5                    3  \n",
       "6                    3  \n",
       "7                    8  \n",
       "8                    8  \n",
       "9                    7  "
      ]
     },
     "execution_count": 7,
     "metadata": {},
     "output_type": "execute_result"
    }
   ],
   "source": [
    "final_df = lhaaso_sim.build_final_df(detected_events,14)\n",
    "final_df"
   ]
  },
  {
   "cell_type": "markdown",
   "metadata": {},
   "source": [
    "### Visualizing the detector array"
   ]
  },
  {
   "cell_type": "code",
   "execution_count": 8,
   "metadata": {
    "scrolled": false
   },
   "outputs": [
    {
     "name": "stdout",
     "output_type": "stream",
     "text": [
      "DETECTOR GRID BUILT : em_scintillator_array \n",
      " 88 Detector lines \n",
      " 5324 Detectors \n",
      " Energy threshold 0.003 GeV\n",
      " detects  ['photon']\n",
      "DETECTOR GRID BUILT : muon_detector_array \n",
      " 44 Detector lines \n",
      " 1330 Detectors \n",
      " Energy threshold 1.3 GeV\n",
      " detects  ['proton', 'neutron', 'mu+', 'mu-']\n"
     ]
    }
   ],
   "source": [
    "# tihs build th detector arrays for LHAASO\n",
    "scintillator_grid,muon_grid = lhaaso_sim.build_lhaaso()"
   ]
  },
  {
   "cell_type": "markdown",
   "metadata": {},
   "source": [
    "#### The grid sketch"
   ]
  },
  {
   "cell_type": "code",
   "execution_count": 9,
   "metadata": {},
   "outputs": [
    {
     "data": {
      "text/plain": [
       "Text(0, 0.5, 'y-coordinate [m]')"
      ]
     },
     "execution_count": 9,
     "metadata": {},
     "output_type": "execute_result"
    },
    {
     "data": {
      "image/png": "[encoded data removed]",
      "text/plain": [
       "<Figure size 1152x648 with 2 Axes>"
      ]
     },
     "metadata": {
      "needs_background": "light"
     },
     "output_type": "display_data"
    }
   ],
   "source": [
    "plt.figure(figsize=(16,9))\n",
    "\n",
    "# paint muon detector grid red and scintillator detector grid blue \n",
    "\n",
    "# whole LHAASO simulated area\n",
    "plt.subplot(1,2,1)\n",
    "scintillator_grid.plot_sketch(\"b\")\n",
    "muon_grid.plot_sketch(\"r\")\n",
    "plt.axis('scaled')\n",
    "plt.grid()\n",
    "plt.xlabel(\"x-coordinate [m]\")\n",
    "plt.ylabel(\"y-coordinate [m]\")\n",
    "\n",
    "# zoom \n",
    "plt.subplot(1,2,2)\n",
    "scintillator_grid.plot_sketch(\"b\")\n",
    "muon_grid.plot_sketch(\"r\")\n",
    "plt.axis('scaled')\n",
    "plt.xlim(500,600)\n",
    "plt.ylim(-100,0)\n",
    "plt.grid()\n",
    "plt.xlabel(\"x-coordinate [m]\")\n",
    "plt.ylabel(\"y-coordinate [m]\")"
   ]
  },
  {
   "cell_type": "markdown",
   "metadata": {},
   "source": [
    "after building each detector, the events can be processed separately."
   ]
  },
  {
   "cell_type": "code",
   "execution_count": 10,
   "metadata": {
    "scrolled": true
   },
   "outputs": [
    {
     "name": "stdout",
     "output_type": "stream",
     "text": [
      "60325  particles within energy and type conditions\n",
      "em_scintillator_array: 313 particles\n",
      "1836  particles within energy and type conditions\n",
      "muon_detector_array: 102 particles\n"
     ]
    }
   ],
   "source": [
    "events_sc = lhaaso_sim.evaluate_events([scintillator_grid],particle_events)\n",
    "events_ph = lhaaso_sim.evaluate_events([muon_grid],particle_events)"
   ]
  },
  {
   "cell_type": "code",
   "execution_count": 11,
   "metadata": {},
   "outputs": [
    {
     "data": {
      "text/html": [
       "<div>\n",
       "<style scoped>\n",
       "    .dataframe tbody tr th:only-of-type {\n",
       "        vertical-align: middle;\n",
       "    }\n",
       "\n",
       "    .dataframe tbody tr th {\n",
       "        vertical-align: top;\n",
       "    }\n",
       "\n",
       "    .dataframe thead th {\n",
       "        text-align: right;\n",
       "    }\n",
       "</style>\n",
       "<table border=\"1\" class=\"dataframe\">\n",
       "  <thead>\n",
       "    <tr style=\"text-align: right;\">\n",
       "      <th></th>\n",
       "      <th>event</th>\n",
       "      <th>particle</th>\n",
       "      <th>energy</th>\n",
       "      <th>x</th>\n",
       "      <th>y</th>\n",
       "      <th>time</th>\n",
       "      <th>detector</th>\n",
       "    </tr>\n",
       "  </thead>\n",
       "  <tbody>\n",
       "    <tr>\n",
       "      <th>0</th>\n",
       "      <td>1</td>\n",
       "      <td>photon</td>\n",
       "      <td>0.103338</td>\n",
       "      <td>-27.409426</td>\n",
       "      <td>-15.947536</td>\n",
       "      <td>23893.240234</td>\n",
       "      <td>em_scintillator_array</td>\n",
       "    </tr>\n",
       "    <tr>\n",
       "      <th>1</th>\n",
       "      <td>1</td>\n",
       "      <td>photon</td>\n",
       "      <td>0.057045</td>\n",
       "      <td>-49.793365</td>\n",
       "      <td>-315.456696</td>\n",
       "      <td>24011.390625</td>\n",
       "      <td>em_scintillator_array</td>\n",
       "    </tr>\n",
       "    <tr>\n",
       "      <th>2</th>\n",
       "      <td>1</td>\n",
       "      <td>photon</td>\n",
       "      <td>0.029949</td>\n",
       "      <td>-132.712189</td>\n",
       "      <td>-120.445915</td>\n",
       "      <td>23914.794922</td>\n",
       "      <td>em_scintillator_array</td>\n",
       "    </tr>\n",
       "    <tr>\n",
       "      <th>3</th>\n",
       "      <td>1</td>\n",
       "      <td>photon</td>\n",
       "      <td>0.126092</td>\n",
       "      <td>17.213482</td>\n",
       "      <td>-94.363846</td>\n",
       "      <td>23896.425781</td>\n",
       "      <td>em_scintillator_array</td>\n",
       "    </tr>\n",
       "    <tr>\n",
       "      <th>4</th>\n",
       "      <td>1</td>\n",
       "      <td>photon</td>\n",
       "      <td>0.016393</td>\n",
       "      <td>2.185527</td>\n",
       "      <td>-42.294346</td>\n",
       "      <td>23895.210938</td>\n",
       "      <td>em_scintillator_array</td>\n",
       "    </tr>\n",
       "    <tr>\n",
       "      <th>...</th>\n",
       "      <td>...</td>\n",
       "      <td>...</td>\n",
       "      <td>...</td>\n",
       "      <td>...</td>\n",
       "      <td>...</td>\n",
       "      <td>...</td>\n",
       "      <td>...</td>\n",
       "    </tr>\n",
       "    <tr>\n",
       "      <th>308</th>\n",
       "      <td>10</td>\n",
       "      <td>photon</td>\n",
       "      <td>0.046963</td>\n",
       "      <td>77.797447</td>\n",
       "      <td>61.267036</td>\n",
       "      <td>92649.281250</td>\n",
       "      <td>em_scintillator_array</td>\n",
       "    </tr>\n",
       "    <tr>\n",
       "      <th>309</th>\n",
       "      <td>10</td>\n",
       "      <td>photon</td>\n",
       "      <td>0.062063</td>\n",
       "      <td>-42.900379</td>\n",
       "      <td>-42.307964</td>\n",
       "      <td>92644.343750</td>\n",
       "      <td>em_scintillator_array</td>\n",
       "    </tr>\n",
       "    <tr>\n",
       "      <th>310</th>\n",
       "      <td>10</td>\n",
       "      <td>photon</td>\n",
       "      <td>0.050230</td>\n",
       "      <td>62.426022</td>\n",
       "      <td>9.296791</td>\n",
       "      <td>92647.289062</td>\n",
       "      <td>em_scintillator_array</td>\n",
       "    </tr>\n",
       "    <tr>\n",
       "      <th>311</th>\n",
       "      <td>10</td>\n",
       "      <td>photon</td>\n",
       "      <td>0.026710</td>\n",
       "      <td>-49.845627</td>\n",
       "      <td>204.426544</td>\n",
       "      <td>92688.101562</td>\n",
       "      <td>em_scintillator_array</td>\n",
       "    </tr>\n",
       "    <tr>\n",
       "      <th>312</th>\n",
       "      <td>10</td>\n",
       "      <td>photon</td>\n",
       "      <td>0.015720</td>\n",
       "      <td>10.159611</td>\n",
       "      <td>22.717575</td>\n",
       "      <td>92653.234375</td>\n",
       "      <td>em_scintillator_array</td>\n",
       "    </tr>\n",
       "  </tbody>\n",
       "</table>\n",
       "<p>313 rows × 7 columns</p>\n",
       "</div>"
      ],
      "text/plain": [
       "     event particle    energy           x           y          time  \\\n",
       "0        1   photon  0.103338  -27.409426  -15.947536  23893.240234   \n",
       "1        1   photon  0.057045  -49.793365 -315.456696  24011.390625   \n",
       "2        1   photon  0.029949 -132.712189 -120.445915  23914.794922   \n",
       "3        1   photon  0.126092   17.213482  -94.363846  23896.425781   \n",
       "4        1   photon  0.016393    2.185527  -42.294346  23895.210938   \n",
       "..     ...      ...       ...         ...         ...           ...   \n",
       "308     10   photon  0.046963   77.797447   61.267036  92649.281250   \n",
       "309     10   photon  0.062063  -42.900379  -42.307964  92644.343750   \n",
       "310     10   photon  0.050230   62.426022    9.296791  92647.289062   \n",
       "311     10   photon  0.026710  -49.845627  204.426544  92688.101562   \n",
       "312     10   photon  0.015720   10.159611   22.717575  92653.234375   \n",
       "\n",
       "                  detector  \n",
       "0    em_scintillator_array  \n",
       "1    em_scintillator_array  \n",
       "2    em_scintillator_array  \n",
       "3    em_scintillator_array  \n",
       "4    em_scintillator_array  \n",
       "..                     ...  \n",
       "308  em_scintillator_array  \n",
       "309  em_scintillator_array  \n",
       "310  em_scintillator_array  \n",
       "311  em_scintillator_array  \n",
       "312  em_scintillator_array  \n",
       "\n",
       "[313 rows x 7 columns]"
      ]
     },
     "execution_count": 11,
     "metadata": {},
     "output_type": "execute_result"
    }
   ],
   "source": [
    "events_sc"
   ]
  },
  {
   "cell_type": "code",
   "execution_count": null,
   "metadata": {},
   "outputs": [],
   "source": []
  }
 ],
 "metadata": {
  "kernelspec": {
   "display_name": "Python 3",
   "language": "python",
   "name": "python3"
  },
  "language_info": {
   "codemirror_mode": {
    "name": "ipython",
    "version": 3
   },
   "file_extension": ".py",
   "mimetype": "text/x-python",
   "name": "python",
   "nbconvert_exporter": "python",
   "pygments_lexer": "ipython3",
   "version": "3.8.5"
  }
 },
 "nbformat": 4,
 "nbformat_minor": 4
}
