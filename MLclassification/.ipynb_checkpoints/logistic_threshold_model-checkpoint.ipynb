{
 "cells": [
  {
   "cell_type": "code",
   "execution_count": 1,
   "metadata": {},
   "outputs": [],
   "source": [
    "import pandas as pd\n",
    "import numpy as np\n",
    "\n",
    "\n",
    "import event_classification"
   ]
  },
  {
   "cell_type": "markdown",
   "metadata": {},
   "source": [
    "### Import data"
   ]
  },
  {
   "cell_type": "code",
   "execution_count": 2,
   "metadata": {},
   "outputs": [],
   "source": [
    "# IMPORT DATA\n",
    "\n",
    "#import shower summary tables\n",
    "fn_ph = pd.read_csv(\"../shower_data/350shower/final_ph.csv\",index_col=0)\n",
    "fn_pr = pd.read_csv(\"../shower_data/350shower/final_pr.csv\",index_col=0)"
   ]
  },
  {
   "cell_type": "code",
   "execution_count": 3,
   "metadata": {},
   "outputs": [],
   "source": [
    "# DATA TABLE CREATION\n",
    "\n",
    "#join them\n",
    "all_ph = fn_ph.append(fn_pr)\n",
    "all_ph.reset_index(drop=True, inplace=True)\n",
    "\n",
    "# log10 to dt, E, and counts\n",
    "all_ph[[\"dt\"]]=all_ph[\"dt\"].apply(np.log10)\n",
    "all_ph[[\"E\"]]=all_ph[\"E\"].apply(np.log10)\n",
    "all_ph[[\"dxy\"]]=all_ph[\"dxy\"].apply(np.log10)\n",
    "all_ph[[\"muon_detector_array\"]]=all_ph[\"muon_detector_array\"].apply(lambda x : np.log10(x+1))\n",
    "all_ph[[\"em_scintillator_array\"]]=all_ph[\"em_scintillator_array\"].apply(lambda x : np.log10(x+1))"
   ]
  },
  {
   "cell_type": "code",
   "execution_count": 4,
   "metadata": {},
   "outputs": [],
   "source": [
    "#all feautres\n",
    "x_data =  all_ph[[\"muon_detector_array\",\"em_scintillator_array\",\"dt\",\"dxy\"]].values\n",
    "#target\n",
    "y_data = np.array([0 if d ==1 else 1 for d in all_ph[\"origin\"].values])#.reshape(-1,1)\n",
    "\n"
   ]
  },
  {
   "cell_type": "markdown",
   "metadata": {},
   "source": [
    "### Model: construction and training"
   ]
  },
  {
   "cell_type": "code",
   "execution_count": 5,
   "metadata": {},
   "outputs": [],
   "source": [
    "# classifier\n",
    "clf  = event_classification.Logistic_probability_threshold(cv=10) #cross-val with cv k-folds"
   ]
  },
  {
   "cell_type": "code",
   "execution_count": 6,
   "metadata": {
    "scrolled": true
   },
   "outputs": [
    {
     "name": "stdout",
     "output_type": "stream",
     "text": [
      "The best threshold is in 0.4686 where 0.0% of protons are misclassified and 3.7% of photons are miscalssified\n",
      "Optimal threshold set at 0.4686\n"
     ]
    }
   ],
   "source": [
    "# train the model\n",
    "clf.fit_model(x_data,y_data)"
   ]
  },
  {
   "cell_type": "markdown",
   "metadata": {},
   "source": [
    "### Model: performance"
   ]
  },
  {
   "cell_type": "code",
   "execution_count": 7,
   "metadata": {},
   "outputs": [
    {
     "name": "stdout",
     "output_type": "stream",
     "text": [
      "0.0% of protons are misclassified and 3.14% of photons are miscalssified\n",
      "Total accuracy 0.9842857142857143%\n"
     ]
    },
    {
     "data": {
      "text/plain": [
       "[0.9842857142857143, 0.0, 0.03142857142857143]"
      ]
     },
     "execution_count": 7,
     "metadata": {},
     "output_type": "execute_result"
    }
   ],
   "source": [
    "# evalaute\n",
    "clf.evaluate(x_data,y_data)"
   ]
  },
  {
   "cell_type": "markdown",
   "metadata": {},
   "source": [
    "### Pseudo-empiric logistic formula for classification\n",
    "\n",
    "The classification probability is the result of feeding the X-features into a logistic formula that uses some coefficient to weight the features in a lineal combination. The resultant probability is the result of:\n",
    "\n",
    "$$ P(X) = \\frac{1}{1 + e^{c_0  + x_1\\cdot c_1 + x_2\\cdot c_2 + x_3\\cdot c_3+x_4\\cdot c_4}}$$\n",
    "\n",
    "where $c_0$ is the intercept value and the other $c_i$ correspont each one to the weight of certain feature in X (we are using 4 features). After that, the selection rule with the threshold $\\tau$ is applied:\n",
    "\n",
    "* $Y_{pred} = 0$ if $P(X) \\lt \\tau$ classifying the event as a gamma shower (GS)\n",
    "\n",
    "* $Y_{pred} = 1$ if $P(X) \\ge \\tau$ classifying the event as a proton shower (PS)\n",
    "\n",
    "In fact, we can obtain the coeficients $c_i$ and the threshold $\\tau$ from the classifier object after trained. Using this coeficients in a formula for classification is equivalent to use the whole regression model object to predict."
   ]
  },
  {
   "cell_type": "code",
   "execution_count": 8,
   "metadata": {
    "scrolled": true
   },
   "outputs": [
    {
     "data": {
      "text/plain": [
       "[0.4686,\n",
       " -0.6908264981129495,\n",
       " 0.11274313758921818,\n",
       " 0.018792837499448326,\n",
       " 0.1813788605174767,\n",
       " 0.00887620860815978]"
      ]
     },
     "execution_count": 8,
     "metadata": {},
     "output_type": "execute_result"
    }
   ],
   "source": [
    "# obtaining the coeficients in an list in the format [tau, c0, c1, c2, c3, c4]\n",
    "clf.give_coefs()"
   ]
  },
  {
   "cell_type": "code",
   "execution_count": 9,
   "metadata": {},
   "outputs": [],
   "source": [
    "def classify_with_formula(X,coefs):\n",
    "    ans = []\n",
    "    for x in X:\n",
    "        # logistic equation\n",
    "        px = 1/(np.exp(-(coefs[1] + coefs[2]*x[0] + coefs[3]*x[1] + coefs[4]*x[2] + coefs[5]*x[3]))+1)\n",
    "        # selection rule\n",
    "        y = 1 if px>=coefs[0] else 0\n",
    "        \n",
    "        ans.append(y)\n",
    "    \n",
    "    return ans"
   ]
  },
  {
   "cell_type": "code",
   "execution_count": 10,
   "metadata": {},
   "outputs": [
    {
     "data": {
      "text/plain": [
       "0.9842857142857143"
      ]
     },
     "execution_count": 10,
     "metadata": {},
     "output_type": "execute_result"
    }
   ],
   "source": [
    "#generate predictions using the formula and the coeficients found\n",
    "y_pred = classify_with_formula(x_data,clf.give_coefs())\n",
    "# accuracy value, equal to the one using clf.evaluate()\n",
    "acc = np.sum(y_pred == y_data)/len(y_data)\n",
    "acc"
   ]
  },
  {
   "cell_type": "code",
   "execution_count": null,
   "metadata": {},
   "outputs": [],
   "source": []
  }
 ],
 "metadata": {
  "kernelspec": {
   "display_name": "Python 3",
   "language": "python",
   "name": "python3"
  },
  "language_info": {
   "codemirror_mode": {
    "name": "ipython",
    "version": 3
   },
   "file_extension": ".py",
   "mimetype": "text/x-python",
   "name": "python",
   "nbconvert_exporter": "python",
   "pygments_lexer": "ipython3",
   "version": "3.8.5"
  }
 },
 "nbformat": 4,
 "nbformat_minor": 4
}
