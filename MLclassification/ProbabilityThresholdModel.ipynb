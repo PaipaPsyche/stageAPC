{
 "cells": [
  {
   "cell_type": "code",
   "execution_count": 1,
   "metadata": {},
   "outputs": [],
   "source": [
    "# utils\n",
    "import pandas as pd\n",
    "import numpy as np\n",
    "\n",
    "# plot\n",
    "import matplotlib.pyplot as plt\n",
    "import seaborn as sns\n",
    "\n",
    "# learning\n",
    "from sklearn import svm\n",
    "from sklearn.pipeline import make_pipeline\n",
    "from sklearn.preprocessing import StandardScaler\n",
    "from sklearn.ensemble import BaggingClassifier,RandomForestClassifier\n",
    "from sklearn.model_selection import train_test_split\n",
    "from sklearn.metrics import accuracy_score,confusion_matrix\n",
    "from sklearn.linear_model import LogisticRegression, LinearRegression\n",
    "from sklearn.neighbors import KNeighborsClassifier\n",
    "from sklearn.gaussian_process import GaussianProcessClassifier\n",
    "from sklearn.gaussian_process.kernels import RBF\n",
    "# keras\n",
    "\n",
    "from keras.models import Sequential\n",
    "from keras.layers import Dense\n",
    "from keras.metrics import Recall\n",
    "import keras.backend as K\n"
   ]
  },
  {
   "cell_type": "code",
   "execution_count": 2,
   "metadata": {},
   "outputs": [],
   "source": [
    "# IMPORT DATA\n",
    "\n",
    "#import shower summary tables\n",
    "fn_ph = pd.read_csv(\"../shower_data/350shower/final_ph.csv\",index_col=0)\n",
    "fn_pr = pd.read_csv(\"../shower_data/350shower/final_pr.csv\",index_col=0)"
   ]
  },
  {
   "cell_type": "code",
   "execution_count": 3,
   "metadata": {},
   "outputs": [],
   "source": [
    "# DATA TABLE CREATION\n",
    "\n",
    "#join them\n",
    "all_ph = fn_ph.append(fn_pr)\n",
    "all_ph.reset_index(drop=True, inplace=True)\n",
    "\n",
    "# log10 to dt, E, and counts\n",
    "all_ph[[\"dt\"]]=all_ph[\"dt\"].apply(np.log10)\n",
    "all_ph[[\"E\"]]=all_ph[\"E\"].apply(np.log10)\n",
    "all_ph[[\"dxy\"]]=all_ph[\"dxy\"].apply(np.log10)\n",
    "all_ph[[\"muon_detector_array\"]]=all_ph[\"muon_detector_array\"].apply(lambda x : np.log10(x+1))\n",
    "all_ph[[\"em_scintillator_array\"]]=all_ph[\"em_scintillator_array\"].apply(lambda x : np.log10(x+1))"
   ]
  },
  {
   "cell_type": "markdown",
   "metadata": {},
   "source": [
    "### Features and Target definition \n",
    "The machine Learning model will take the features and train to predict the correct target. In the future, the model will receive a set of features and predict a probability of belonging to the \"1\" target (probability of being a proton-induced shower). then, we can play with a threshold over the probabilitiy to determine the desired specificity and recall."
   ]
  },
  {
   "cell_type": "code",
   "execution_count": 4,
   "metadata": {},
   "outputs": [],
   "source": [
    "#all feautres\n",
    "X =  all_ph[[\"muon_detector_array\",\"em_scintillator_array\",\"dt\",\"dxy\"]].values\n",
    "#target\n",
    "y = np.array([0 if d ==1 else 1 for d in all_ph[\"origin\"].values])#.reshape(-1,1)\n"
   ]
  },
  {
   "cell_type": "code",
   "execution_count": 5,
   "metadata": {},
   "outputs": [],
   "source": [
    "#splitting in train and test sample. the proportion of the test sample is set on \"test_size\"\n",
    "x_train,x_test,y_train,y_test = train_test_split(X,y,test_size=0.2)\n"
   ]
  },
  {
   "cell_type": "markdown",
   "metadata": {},
   "source": [
    "## Model probability prediction\n",
    "\n",
    "Some models allow to show the probability computed for each set of features to belong in each class. Since we have 2 classes, we compute 2 probabilities (Probability of being a GS (0) and probability of being a PS(1))  or a probability a being positive (a PS). A Classifer uses this probability to decide on which class should the new set of features be classified, but the probability threshold of this decision depends on each model, that's why using the probability instead of the direct prediction is better for setting an unbalanced classification.\n",
    "\n",
    "\n",
    "### Error assessment function\n",
    "\n",
    "Given the expected (correct) categories (y-values) for the features and the probabilities predicted with the model, we want to set the probability threshold so that when applying the threshold to the pobabilities the recall is maximized and the specificity is mantained over certain threshold. \n",
    "\n",
    "In order to find this threshold the Error Assessment function is defined. The function does a sweep of the threshold from 0 to 1, for each step it saves the proportion of PS misclassificated (1-recall) and the proportion of GS misclassificated (1-specificity) searching for the best threshold value. "
   ]
  },
  {
   "cell_type": "code",
   "execution_count": 6,
   "metadata": {},
   "outputs": [],
   "source": [
    "# y_test   real classes\n",
    "# y_pred  predicted classes\n",
    "# proton_tol  tolerance of miclassificated PS\n",
    "# photon_loss_tol  tolerance for misclassifed photons\n",
    "# resol resolution in the probability space, number of steps steps is defined as 1/resol\n",
    "\n",
    "def error_assessment(y_test,y_pred,proton_tol=1E-4,photon_loss_tol=0.5,resol = 1E-4):\n",
    "    # number of steps\n",
    "    steps = int(1/resol)+1\n",
    "    thresholds = np.linspace(0,1,steps)\n",
    "    \n",
    "    \n",
    "    protons_passed = [] # values of (1-recall) . proportion of protons misclassificated\n",
    "    photons_npassed = [] # values of (1-specificity). proportion of photons misclassificated\n",
    "\n",
    "    # better threshold : [threshold value, 1-recall , 1 - spec.]\n",
    "    ideal_th = [0,1,1] \n",
    "    \n",
    "    # is ther at least one candidate for threshold?\n",
    "    found  = False\n",
    "    \n",
    "    \n",
    "    for th in thresholds:\n",
    "        # create an array with the classes decided with thresshold = th\n",
    "        # if probability above th, then the class is 1. if else , 0.\n",
    "        y_c = [1  if  v > th else 0 for v in y_pred.reshape(-1)]\n",
    "        \n",
    "        #true negatives, false positives, false negatives, true positives\n",
    "        tn, fp, fn, tp = confusion_matrix(y_test.reshape(-1),y_c).ravel()\n",
    "\n",
    "\n",
    "        pr_pass = fn/(fn+tp) # 1 -recall\n",
    "        ph_pass = fp/(tn+fp) # 1 - specificity\n",
    "\n",
    "        # the better threshold is only updated if tolerance values are respected and the candidate minimizes\n",
    "        # at least one value (1-recall) or (1-specificity)\n",
    "        if( ph_pass<photon_loss_tol and pr_pass < proton_tol and (ph_pass<ideal_th[2] or pr_pass < ideal_th[1])):\n",
    "            ideal_th = [th,pr_pass,ph_pass]\n",
    "            found = True\n",
    "\n",
    "        protons_passed.append(pr_pass) \n",
    "        photons_npassed.append(ph_pass) \n",
    "\n",
    "    # if there is not at least one candidate\n",
    "    if(not found):\n",
    "        print(\"Warning! No minimal threshold conditions found in all the threshold sweep\")\n",
    "    else:\n",
    "        print(\"The best threshold is in {} where {}% of protons are misclassified and {}% of photons are miscalssified\".format(ideal_th[0],round(ideal_th[1]*100,2),round(ideal_th[2]*100,2)))\n",
    "    return {\n",
    "        \"thresholds\":thresholds,\n",
    "        \"protons_accepted\":protons_passed,\n",
    "        \"photons_rejected\":photons_npassed,\n",
    "        \"best_threshold\":ideal_th\n",
    "    }"
   ]
  },
  {
   "cell_type": "markdown",
   "metadata": {},
   "source": [
    "## Model training\n",
    "\n",
    "Now some models are evaluated using the Error assessment function"
   ]
  },
  {
   "cell_type": "markdown",
   "metadata": {},
   "source": [
    "### Logistic Regression\n",
    "\n",
    "for simplicity let's start by using a Logistic Regression model to predict the classes. "
   ]
  },
  {
   "cell_type": "code",
   "execution_count": 7,
   "metadata": {},
   "outputs": [
    {
     "data": {
      "text/plain": [
       "LogisticRegression(solver='liblinear')"
      ]
     },
     "execution_count": 7,
     "metadata": {},
     "output_type": "execute_result"
    }
   ],
   "source": [
    "model = LogisticRegression(solver=\"liblinear\")\n",
    "model.fit(x_train,y_train)"
   ]
  },
  {
   "cell_type": "code",
   "execution_count": 8,
   "metadata": {},
   "outputs": [],
   "source": [
    "# we need the probability of being positive (1) [PS]\n",
    "# selct the second column of data since the first is the probability of being negative (0)\n",
    "y_pred = model.predict_proba(x_test)[:,1]"
   ]
  },
  {
   "cell_type": "code",
   "execution_count": 9,
   "metadata": {},
   "outputs": [
    {
     "data": {
      "text/plain": [
       "array([0.01965996, 0.00174854, 0.99173477, 0.99941966, 0.00595407,\n",
       "       0.0039612 , 0.99651991, 0.96290264, 0.00223399, 0.01652081])"
      ]
     },
     "execution_count": 9,
     "metadata": {},
     "output_type": "execute_result"
    }
   ],
   "source": [
    "y_pred[:10] # a look into the probability set"
   ]
  },
  {
   "cell_type": "code",
   "execution_count": 10,
   "metadata": {},
   "outputs": [
    {
     "name": "stdout",
     "output_type": "stream",
     "text": [
      "The best threshold is in 0.0523 where 0.0% of protons are misclassified and 1.49% of photons are miscalssified\n"
     ]
    },
    {
     "data": {
      "text/plain": [
       "<matplotlib.legend.Legend at 0x1c153533490>"
      ]
     },
     "execution_count": 10,
     "metadata": {},
     "output_type": "execute_result"
    },
    {
     "data": {
      "image/png": "[encoded data removed]",
      "text/plain": [
       "<Figure size 1080x360 with 1 Axes>"
      ]
     },
     "metadata": {
      "needs_background": "light"
     },
     "output_type": "display_data"
    }
   ],
   "source": [
    "# use the error assessment function to find an optimal threshold value\n",
    "err_ass =  error_assessment(y_test,y_pred,resol=1E-4)\n",
    "\n",
    "# for plotting\n",
    "thresholds = err_ass[\"thresholds\"]\n",
    "protons_passed = err_ass[\"protons_accepted\"]\n",
    "photons_npassed = err_ass[\"photons_rejected\"]\n",
    "\n",
    "# threshold\n",
    "ideal_th = err_ass[\"best_threshold\"]\n",
    "\n",
    "\n",
    "# plot\n",
    "plt.figure(figsize=(15,5))\n",
    "plt.plot(thresholds,protons_passed,label=\"protons not discarded\")\n",
    "plt.plot(thresholds,photons_npassed,label=\"photons discarded\")\n",
    "plt.axvline(ideal_th[0],c=\"r\",linestyle=\"--\")\n",
    "plt.xlabel(\"Predicted probability of being a proton\")\n",
    "plt.legend()\n"
   ]
  },
  {
   "cell_type": "code",
   "execution_count": 11,
   "metadata": {
    "scrolled": true
   },
   "outputs": [
    {
     "data": {
      "text/plain": [
       "array([[ 2.78420643, -0.6847288 ,  3.02167463, -2.16953722]])"
      ]
     },
     "execution_count": 11,
     "metadata": {},
     "output_type": "execute_result"
    }
   ],
   "source": [
    "model.coef_ #coefficients of regression"
   ]
  },
  {
   "cell_type": "code",
   "execution_count": 12,
   "metadata": {},
   "outputs": [
    {
     "data": {
      "text/plain": [
       "array([-0.66041722])"
      ]
     },
     "execution_count": 12,
     "metadata": {},
     "output_type": "execute_result"
    }
   ],
   "source": [
    "model.intercept_ # intercept of regression"
   ]
  },
  {
   "cell_type": "markdown",
   "metadata": {},
   "source": [
    "Logistic model of the type\n",
    "$$ \\frac{1}{1 + e^{c_0  + x_1\\cdot c_1 + x_2\\cdot c_2 + x_3\\cdot c_3+x_4\\cdot c_4}}$$\n",
    "\n",
    "where $c_0$ is the intercept value and the other $c_i$ correspont each one to the weight of certain feature in X (we are using 4 features)"
   ]
  },
  {
   "cell_type": "markdown",
   "metadata": {},
   "source": [
    "### Gaussian model Classificator"
   ]
  },
  {
   "cell_type": "code",
   "execution_count": 13,
   "metadata": {},
   "outputs": [
    {
     "data": {
      "text/plain": [
       "GaussianProcessClassifier(kernel=2.24**2 * RBF(length_scale=5), random_state=0)"
      ]
     },
     "execution_count": 13,
     "metadata": {},
     "output_type": "execute_result"
    }
   ],
   "source": [
    "# RBF kernel \n",
    "kernel = 5.0 * RBF(5.0)\n",
    "model = GaussianProcessClassifier(kernel=kernel,random_state=0)\n",
    "model.fit(x_train, y_train)\n"
   ]
  },
  {
   "cell_type": "code",
   "execution_count": 14,
   "metadata": {},
   "outputs": [
    {
     "name": "stdout",
     "output_type": "stream",
     "text": [
      "The best threshold is in 0.233 where 0.0% of protons are misclassified and 0.0% of photons are miscalssified\n"
     ]
    },
    {
     "data": {
      "text/plain": [
       "<matplotlib.legend.Legend at 0x1c1531df190>"
      ]
     },
     "execution_count": 14,
     "metadata": {},
     "output_type": "execute_result"
    },
    {
     "data": {
      "image/png": "[encoded data removed]",
      "text/plain": [
       "<Figure size 1080x360 with 1 Axes>"
      ]
     },
     "metadata": {
      "needs_background": "light"
     },
     "output_type": "display_data"
    }
   ],
   "source": [
    "# we need the probability of being positive (1) [PS]\n",
    "# selct the second column of data since the first is the probability of being negative (0)\n",
    "y_pred = model.predict_proba(x_test)[:,1]\n",
    "\n",
    "# use the error assessment function to find an optimal threshold value\n",
    "err_ass =  error_assessment(y_test,y_pred,resol=1E-4)\n",
    "\n",
    "thresholds = err_ass[\"thresholds\"]\n",
    "protons_passed = err_ass[\"protons_accepted\"]\n",
    "photons_npassed = err_ass[\"photons_rejected\"]\n",
    "ideal_th = err_ass[\"best_threshold\"]\n",
    "\n",
    "# plot\n",
    "plt.figure(figsize=(15,5))\n",
    "plt.plot(thresholds,protons_passed,label=\"protons not discarded\")\n",
    "plt.plot(thresholds,photons_npassed,label=\"photons discarded\")\n",
    "plt.axvline(ideal_th[0],c=\"r\",linestyle=\"--\")\n",
    "plt.legend()"
   ]
  },
  {
   "cell_type": "markdown",
   "metadata": {},
   "source": [
    "### Neural Network\n",
    "\n",
    "Just to check an example of complex models lets use a shallow Neural Network to classify."
   ]
  },
  {
   "cell_type": "code",
   "execution_count": 15,
   "metadata": {},
   "outputs": [],
   "source": [
    "# NN architecture \n",
    "model = Sequential()\n",
    "# 4 neuron input layer\n",
    "model.add(Dense(4, activation='relu'))\n",
    "\n",
    "# 20 neuron hidden layer\n",
    "model.add(Dense(20, activation='relu'))\n",
    "\n",
    "# output neuron\n",
    "model.add(Dense(1, activation='sigmoid'))\n",
    "\n",
    "#compile model\n",
    "model.compile(loss='binary_crossentropy', optimizer='adam', metrics=[Recall()])"
   ]
  },
  {
   "cell_type": "code",
   "execution_count": 16,
   "metadata": {},
   "outputs": [
    {
     "name": "stdout",
     "output_type": "stream",
     "text": [
      "WARNING:tensorflow:From C:\\Users\\david\\Anaconda3\\lib\\site-packages\\tensorflow\\python\\ops\\array_ops.py:5043: calling gather (from tensorflow.python.ops.array_ops) with validate_indices is deprecated and will be removed in a future version.\n",
      "Instructions for updating:\n",
      "The `validate_indices` argument has no effect. Indices are always validated on CPU and never validated on GPU.\n"
     ]
    },
    {
     "data": {
      "text/plain": [
       "<keras.callbacks.History at 0x1c153fa4ee0>"
      ]
     },
     "execution_count": 16,
     "metadata": {},
     "output_type": "execute_result"
    }
   ],
   "source": [
    "model.fit(x_train,y_train,epochs=200,batch_size=128,verbose=0,class_weight={0:0.2,1:0.8})\n",
    "# class_weight determines the relevance of identifying positive cases (PS) over negative cases (GS) "
   ]
  },
  {
   "cell_type": "code",
   "execution_count": 17,
   "metadata": {},
   "outputs": [],
   "source": [
    "# in this case the prediction is already a value between 0 and 1\n",
    "y_pred = model.predict(x_test)"
   ]
  },
  {
   "cell_type": "code",
   "execution_count": 18,
   "metadata": {},
   "outputs": [
    {
     "name": "stdout",
     "output_type": "stream",
     "text": [
      "The best threshold is in 0.226 where 0.0% of protons are misclassified and 2.99% of photons are miscalssified\n"
     ]
    },
    {
     "data": {
      "text/plain": [
       "<matplotlib.legend.Legend at 0x1c154ab1e50>"
      ]
     },
     "execution_count": 18,
     "metadata": {},
     "output_type": "execute_result"
    },
    {
     "data": {
      "image/png": "[encoded data removed]",
      "text/plain": [
       "<Figure size 1080x360 with 1 Axes>"
      ]
     },
     "metadata": {
      "needs_background": "light"
     },
     "output_type": "display_data"
    }
   ],
   "source": [
    "err_ass =  error_assessment(y_test,y_pred,resol=1E-4)\n",
    "thresholds = err_ass[\"thresholds\"]\n",
    "protons_passed = err_ass[\"protons_accepted\"]\n",
    "photons_npassed = err_ass[\"photons_rejected\"]\n",
    "ideal_th = err_ass[\"best_threshold\"]\n",
    "\n",
    "plt.figure(figsize=(15,5))\n",
    "\n",
    "plt.plot(thresholds,protons_passed,label=\"protons not discarded\")\n",
    "plt.plot(thresholds,photons_npassed,label=\"photons discarded\")\n",
    "plt.axvline(ideal_th[0],c=\"r\",linestyle=\"--\")\n",
    "plt.legend()\n"
   ]
  },
  {
   "cell_type": "markdown",
   "metadata": {},
   "source": [
    "## Predictive model: automated training and construction\n",
    "\n",
    "The **Logistic classfier** showed a good performance for being a simple regression model, and this offers a possibility for proposing a pseudo-empirical \"formula\" to classify events in the context of the training sample used."
   ]
  },
  {
   "cell_type": "code",
   "execution_count": null,
   "metadata": {},
   "outputs": [],
   "source": []
  }
 ],
 "metadata": {
  "kernelspec": {
   "display_name": "Python 3",
   "language": "python",
   "name": "python3"
  },
  "language_info": {
   "codemirror_mode": {
    "name": "ipython",
    "version": 3
   },
   "file_extension": ".py",
   "mimetype": "text/x-python",
   "name": "python",
   "nbconvert_exporter": "python",
   "pygments_lexer": "ipython3",
   "version": "3.8.5"
  }
 },
 "nbformat": 4,
 "nbformat_minor": 4
}
