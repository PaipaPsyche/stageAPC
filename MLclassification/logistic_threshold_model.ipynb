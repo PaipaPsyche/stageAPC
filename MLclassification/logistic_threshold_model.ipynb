{
 "cells": [
  {
   "cell_type": "code",
   "execution_count": 1,
   "metadata": {},
   "outputs": [],
   "source": [
    "import pandas as pd\n",
    "import numpy as np\n",
    "import matplotlib.pyplot as plt\n",
    "import random\n",
    "\n",
    "from sklearn.metrics import accuracy_score, recall_score, f1_score,confusion_matrix\n",
    "\n",
    "import event_classification\n",
    "\n",
    "random.seed(2021)"
   ]
  },
  {
   "cell_type": "markdown",
   "metadata": {},
   "source": [
    "### Import data"
   ]
  },
  {
   "cell_type": "code",
   "execution_count": 2,
   "metadata": {},
   "outputs": [],
   "source": [
    "# IMPORT DATA\n",
    "\n",
    "#import shower summary tables\n",
    "#fn_ph = pd.read_csv(\"../shower_data/350shower/final_ph.csv\",index_col=0)\n",
    "#fn_pr = pd.read_csv(\"../shower_data/350shower/final_pr.csv\",index_col=0)"
   ]
  },
  {
   "cell_type": "code",
   "execution_count": 20,
   "metadata": {},
   "outputs": [
    {
     "data": {
      "text/html": [
       "<div>\n",
       "<style scoped>\n",
       "    .dataframe tbody tr th:only-of-type {\n",
       "        vertical-align: middle;\n",
       "    }\n",
       "\n",
       "    .dataframe tbody tr th {\n",
       "        vertical-align: top;\n",
       "    }\n",
       "\n",
       "    .dataframe thead th {\n",
       "        text-align: right;\n",
       "    }\n",
       "</style>\n",
       "<table border=\"1\" class=\"dataframe\">\n",
       "  <thead>\n",
       "    <tr style=\"text-align: right;\">\n",
       "      <th></th>\n",
       "      <th>dt</th>\n",
       "      <th>dxy</th>\n",
       "      <th>em_scintillator_array</th>\n",
       "      <th>muon_detector_array</th>\n",
       "      <th>origin</th>\n",
       "    </tr>\n",
       "  </thead>\n",
       "  <tbody>\n",
       "    <tr>\n",
       "      <th>0</th>\n",
       "      <td>1.591065</td>\n",
       "      <td>3.736556</td>\n",
       "      <td>2.891537</td>\n",
       "      <td>0.477121</td>\n",
       "      <td>1</td>\n",
       "    </tr>\n",
       "    <tr>\n",
       "      <th>1</th>\n",
       "      <td>1.612784</td>\n",
       "      <td>3.971415</td>\n",
       "      <td>2.670246</td>\n",
       "      <td>0.301030</td>\n",
       "      <td>1</td>\n",
       "    </tr>\n",
       "    <tr>\n",
       "      <th>2</th>\n",
       "      <td>1.579784</td>\n",
       "      <td>3.890365</td>\n",
       "      <td>2.818226</td>\n",
       "      <td>0.000000</td>\n",
       "      <td>1</td>\n",
       "    </tr>\n",
       "    <tr>\n",
       "      <th>3</th>\n",
       "      <td>1.414973</td>\n",
       "      <td>3.749195</td>\n",
       "      <td>2.684845</td>\n",
       "      <td>0.301030</td>\n",
       "      <td>1</td>\n",
       "    </tr>\n",
       "    <tr>\n",
       "      <th>4</th>\n",
       "      <td>1.462398</td>\n",
       "      <td>3.839855</td>\n",
       "      <td>2.964260</td>\n",
       "      <td>0.602060</td>\n",
       "      <td>1</td>\n",
       "    </tr>\n",
       "  </tbody>\n",
       "</table>\n",
       "</div>"
      ],
      "text/plain": [
       "         dt       dxy  em_scintillator_array  muon_detector_array  origin\n",
       "0  1.591065  3.736556               2.891537             0.477121       1\n",
       "1  1.612784  3.971415               2.670246             0.301030       1\n",
       "2  1.579784  3.890365               2.818226             0.000000       1\n",
       "3  1.414973  3.749195               2.684845             0.301030       1\n",
       "4  1.462398  3.839855               2.964260             0.602060       1"
      ]
     },
     "execution_count": 20,
     "metadata": {},
     "output_type": "execute_result"
    }
   ],
   "source": [
    "# DATA TABLE CREATION\n",
    "\n",
    "#join them\n",
    "#all_ph = fn_ph.append(fn_pr)\n",
    "#all_ph.reset_index(drop=True, inplace=True)\n",
    "all_ph = pd.read_csv(\"../shower_data/combined_all_1600.csv\")\n",
    "\n",
    "\n",
    "# log10 to dt, E, and counts\n",
    "#all_ph[[\"dt\"]]=all_ph[\"dt\"].apply(np.log10)\n",
    "#all_ph[[\"E\"]]=all_ph[\"E\"].apply(np.log10)\n",
    "#all_ph[[\"dxy\"]]=all_ph[\"dxy\"].apply(np.log10)\n",
    "#all_ph[[\"muon_detector_array\"]]=all_ph[\"muon_detector_array\"].apply(lambda x : np.log10(x+1))\n",
    "#all_ph[[\"em_scintillator_array\"]]=all_ph[\"em_scintillator_array\"].apply(lambda x : np.log10(x+1))\n",
    "\n",
    "all_ph.head(5)"
   ]
  },
  {
   "cell_type": "markdown",
   "metadata": {},
   "source": [
    "## Using 2 Main features : counts per shower in each type of detector"
   ]
  },
  {
   "cell_type": "code",
   "execution_count": 21,
   "metadata": {},
   "outputs": [],
   "source": [
    "#all feautres\n",
    "x_data =  all_ph[[\"muon_detector_array\",\"em_scintillator_array\"]].values\n",
    "\n",
    "#WARNING 2D visualization of classification impossible on more than 2 features\n",
    "#x_data =  all_ph[[\"muon_detector_array\",\"em_scintillator_array\",\"dt\",\"dxy\"]].values \n",
    "#target\n",
    "y_data = np.array([0 if d ==1 else 1 for d in all_ph[\"origin\"].values])#.reshape(-1,1)\n",
    "\n"
   ]
  },
  {
   "cell_type": "markdown",
   "metadata": {},
   "source": [
    "### Model: construction and training"
   ]
  },
  {
   "cell_type": "code",
   "execution_count": 22,
   "metadata": {},
   "outputs": [],
   "source": [
    "# classifier\n",
    "clf  = event_classification.Logistic_probability_threshold(cv=10) #cross-val with cv k-folds"
   ]
  },
  {
   "cell_type": "code",
   "execution_count": 23,
   "metadata": {
    "scrolled": true
   },
   "outputs": [
    {
     "name": "stdout",
     "output_type": "stream",
     "text": [
      "The best threshold is in 0.308 where 0.0% of PS are misclassified and 0.0% of GS are miscalssified\n",
      "Optimal threshold set at 0.308\n"
     ]
    }
   ],
   "source": [
    "# train the model\n",
    "clf.fit_model(x_data,y_data,test_s=0.1)"
   ]
  },
  {
   "cell_type": "markdown",
   "metadata": {},
   "source": [
    "### Model: performance"
   ]
  },
  {
   "cell_type": "code",
   "execution_count": 24,
   "metadata": {},
   "outputs": [
    {
     "name": "stdout",
     "output_type": "stream",
     "text": [
      "0.125% of proton showers are misclassified and 4.75% of gamma showers are miscalssified\n",
      "Total accuracy 97.5625%\n",
      "F1 score 0.9762\n"
     ]
    },
    {
     "data": {
      "text/plain": [
       "[0.975625, 0.9761759315821625, 0.00125, 0.0475]"
      ]
     },
     "execution_count": 24,
     "metadata": {},
     "output_type": "execute_result"
    }
   ],
   "source": [
    "# evalaute\n",
    "clf.evaluate(x_data,y_data)"
   ]
  },
  {
   "cell_type": "markdown",
   "metadata": {},
   "source": [
    "### Pseudo-empiric logistic formula for classification\n",
    "\n",
    "The classification probability is the result of feeding the X-features into a logistic formula that uses some coefficient to weight the features in a lineal combination. The resultant probability is the result of:\n",
    "\n",
    "$$ P(X) = \\frac{1}{1 + e^{-(c_0  + x_1\\cdot c_1 + x_2\\cdot c_2 + x_3\\cdot c_3+x_4\\cdot c_4)}}$$\n",
    "\n",
    "where $c_0$ is the intercept value and the other $c_i$ correspont each one to the weight of certain feature in X (we are using 4 features at most, but usually 2 of them are certainly available). After that, the selection rule with the threshold $\\tau$ is applied:\n",
    "\n",
    "* $Y_{pred} = 0$ if $P(X) \\lt \\tau$ classifying the event as a gamma shower (GS)\n",
    "\n",
    "* $Y_{pred} = 1$ if $P(X) \\ge \\tau$ classifying the event as a proton shower (PS)\n",
    "\n",
    "In fact, we can obtain the coeficients $c_i$ and the threshold $\\tau$ from the classifier object after trained. Using this coeficients in a formula for classification is equivalent to use the whole regression model object to predict."
   ]
  },
  {
   "cell_type": "code",
   "execution_count": 25,
   "metadata": {
    "scrolled": true
   },
   "outputs": [
    {
     "data": {
      "text/plain": [
       "[0.308, -2.3415833426957025, 3.430183368145208, -0.5683387849875519]"
      ]
     },
     "execution_count": 25,
     "metadata": {},
     "output_type": "execute_result"
    }
   ],
   "source": [
    "# obtaining the coeficients in an list in the format [tau, c0, c1, c2]\n",
    "clf.give_coefs()"
   ]
  },
  {
   "cell_type": "code",
   "execution_count": 26,
   "metadata": {},
   "outputs": [],
   "source": [
    "def classify_with_formula(X,coefs):\n",
    "    ans = []\n",
    "    for x in X:\n",
    "        # logistic equation\n",
    "        reg = coefs[1] + np.sum([coefs[i+2]*x[i] for i in range(len(coefs)-2)])\n",
    "        px = 1/(1+np.exp(-reg))\n",
    "        # selection rule\n",
    "        y = 1 if px>=coefs[0] else 0\n",
    "        \n",
    "        ans.append(y)\n",
    "    \n",
    "    return ans"
   ]
  },
  {
   "cell_type": "code",
   "execution_count": 27,
   "metadata": {},
   "outputs": [
    {
     "data": {
      "text/plain": [
       "0.975625"
      ]
     },
     "execution_count": 27,
     "metadata": {},
     "output_type": "execute_result"
    }
   ],
   "source": [
    "#generate predictions using the formula and the coeficients found\n",
    "y_pred = classify_with_formula(x_data,clf.give_coefs())\n",
    "# accuracy value, equal to the one using clf.evaluate()\n",
    "acc = np.sum(y_pred == y_data)/len(y_data)\n",
    "acc"
   ]
  },
  {
   "cell_type": "code",
   "execution_count": 28,
   "metadata": {},
   "outputs": [
    {
     "data": {
      "text/plain": [
       "<matplotlib.legend.Legend at 0x2885f2deaf0>"
      ]
     },
     "execution_count": 28,
     "metadata": {},
     "output_type": "execute_result"
    },
    {
     "data": {
      "image/png": "[encoded data removed]",
      "text/plain": [
       "<Figure size 864x864 with 1 Axes>"
      ]
     },
     "metadata": {
      "needs_background": "light"
     },
     "output_type": "display_data"
    }
   ],
   "source": [
    "h = 0.01  # step size in the mesh\n",
    "# create a mesh to plot in\n",
    "x_min, x_max = x_data[:, 0].min() - 1, x_data[:, 0].max() + 1\n",
    "y_min, y_max = x_data[:, 1].min() - 1, x_data[:, 1].max() + 1\n",
    "xx, yy = np.meshgrid(np.arange(x_min, x_max, h),\n",
    "                     np.arange(y_min, y_max, h))\n",
    "\n",
    "#train-test sample splitting\n",
    "#x_train,x_test,y_train,y_test = train_test_split(x_data,y_data,test_size=0.3)\n",
    "\n",
    "\n",
    "#building the classifier\n",
    "#clf = svm.SVC(kernel=\"linear\")  # RandomForestClassifier(n_estimators=20,oob_score=True))\n",
    "#clf.fit(x_train, y_train)\n",
    "\n",
    "\n",
    "#region classification\n",
    "Z = clf.predict(np.c_[xx.ravel(), yy.ravel()])\n",
    "Z = Z.reshape(xx.shape)\n",
    "\n",
    "\n",
    "\n",
    "y_pred = clf.predict(x_data)\n",
    "tn, fp, fn, tp = confusion_matrix(y_data.reshape(-1),y_pred).ravel()\n",
    "acc_i = round(accuracy_score(y_data,y_pred),3)\n",
    "rec_i = round(recall_score(y_data,y_pred),3)\n",
    "f1_i = round(f1_score(y_data,y_pred),3)\n",
    "pr_pass = round(100*fn/(fn+tp),3) # 1 -recall\n",
    "ph_pass = round(100*fp/(tn+fp),3) # 1 - specificity\n",
    "\n",
    "\n",
    "plt.figure(figsize=(12,12))\n",
    "plt.subplot(1,1,1)\n",
    "plt.subplots_adjust(wspace=0.4, hspace=0.4)\n",
    "plt.contourf(xx,yy, Z, cmap=plt.cm.coolwarm, alpha=0.4)\n",
    "\n",
    "plt.scatter(x_data[y_data==0][:,0],x_data[y_data==0][:,1], c=\"b\",s=5,label=\"photon events\")\n",
    "plt.scatter(x_data[y_data==1][:,0],x_data[y_data==1][:,1], c=\"r\",s=5,label=\"proton events\")\n",
    "\n",
    "plt.xlabel(\"muon_detector_array\")\n",
    "plt.ylabel(\"em_scintillator_array\")\n",
    "\n",
    "plt.suptitle(\"Logistic CV classifier (with threshold) over {} Shower events \".format(len(y_data)),fontsize=15)\n",
    "plt.title(\"  Accuracy : {}  Recall : {}  F1 : {} | missed protons {}%  missed photons {}%\".format(acc_i,rec_i,f1_i,pr_pass,ph_pass))\n",
    "\n",
    "plt.legend()"
   ]
  },
  {
   "cell_type": "markdown",
   "metadata": {},
   "source": [
    "## Using all features : including $\\Delta$t and $\\Delta$xy\n",
    "\n",
    "### Model: construction and training"
   ]
  },
  {
   "cell_type": "code",
   "execution_count": 29,
   "metadata": {},
   "outputs": [
    {
     "name": "stdout",
     "output_type": "stream",
     "text": [
      "The best threshold is in 0.106 where 0.0% of PS are misclassified and 1.333% of GS are miscalssified\n",
      "Optimal threshold set at 0.10640000000000001\n"
     ]
    }
   ],
   "source": [
    "#all feautres\n",
    "#x_data =  all_ph[[\"muon_detector_array\",\"em_scintillator_array\"]].values\n",
    "\n",
    "#WARNING 2D visualization of classification impossible on more than 2 features\n",
    "x_data =  all_ph[[\"muon_detector_array\",\"em_scintillator_array\",\"dt\",\"dxy\"]].values \n",
    "#target\n",
    "y_data = np.array([0 if d ==1 else 1 for d in all_ph[\"origin\"].values])#.reshape(-1,1)\n",
    "\n",
    "\n",
    "\n",
    "\n",
    "# classifier\n",
    "clf  = event_classification.Logistic_probability_threshold(cv=10) #cross-val with cv k-folds\n",
    "# train the model\n",
    "clf.fit_model(x_data,y_data,test_s=0.1)"
   ]
  },
  {
   "cell_type": "markdown",
   "metadata": {},
   "source": [
    "### Model: performance"
   ]
  },
  {
   "cell_type": "code",
   "execution_count": 30,
   "metadata": {},
   "outputs": [
    {
     "name": "stdout",
     "output_type": "stream",
     "text": [
      "0.0% of proton showers are misclassified and 3.75% of gamma showers are miscalssified\n",
      "Total accuracy 98.125%\n",
      "F1 score 0.9816\n"
     ]
    },
    {
     "data": {
      "text/plain": [
       "[0.98125, 0.9815950920245399, 0.0, 0.0375]"
      ]
     },
     "execution_count": 30,
     "metadata": {},
     "output_type": "execute_result"
    }
   ],
   "source": [
    "# evalaute\n",
    "clf.evaluate(x_data,y_data)"
   ]
  },
  {
   "cell_type": "markdown",
   "metadata": {},
   "source": [
    "### Pseudo-empiric logistic formula for classification"
   ]
  },
  {
   "cell_type": "code",
   "execution_count": 31,
   "metadata": {},
   "outputs": [
    {
     "data": {
      "text/plain": [
       "0.98125"
      ]
     },
     "execution_count": 31,
     "metadata": {},
     "output_type": "execute_result"
    }
   ],
   "source": [
    "#generate predictions using the formula and the coeficients found\n",
    "y_pred = classify_with_formula(x_data,clf.give_coefs())\n",
    "# accuracy value, equal to the one using clf.evaluate()\n",
    "acc = np.sum(y_pred == y_data)/len(y_data)\n",
    "acc"
   ]
  },
  {
   "cell_type": "code",
   "execution_count": 32,
   "metadata": {},
   "outputs": [
    {
     "data": {
      "text/plain": [
       "[0.10640000000000001,\n",
       " -8.187057797580408,\n",
       " 4.779244273073689,\n",
       " -1.9873275633406493,\n",
       " 1.7181771899839948,\n",
       " 1.1680218795439603]"
      ]
     },
     "execution_count": 32,
     "metadata": {},
     "output_type": "execute_result"
    }
   ],
   "source": [
    "# obtaining the coeficients in an list in the format [tau, c0, c1, c2,c3,c4]\n",
    "clf.give_coefs()"
   ]
  },
  {
   "cell_type": "markdown",
   "metadata": {},
   "source": [
    "### Test size"
   ]
  },
  {
   "cell_type": "code",
   "execution_count": 16,
   "metadata": {},
   "outputs": [
    {
     "name": "stdout",
     "output_type": "stream",
     "text": [
      "The best threshold is in 0.214 where 0.0% of PS are misclassified and 10.75% of GS are miscalssified\n",
      "Optimal threshold set at 0.21380000000000002\n",
      "0.0% of proton showers are misclassified and 10.75% of gamma showers are miscalssified\n",
      "Total accuracy 94.625%\n",
      "F1 score 0.949\n",
      "The best threshold is in 0.428 where 0.0% of PS are misclassified and 1.375% of GS are miscalssified\n",
      "Optimal threshold set at 0.42800000000000005\n",
      "0.0% of proton showers are misclassified and 1.375% of gamma showers are miscalssified\n",
      "Total accuracy 99.3125%\n",
      "F1 score 0.9932\n",
      "The best threshold is in 0.385 where 0.0% of PS are misclassified and 3.101% of GS are miscalssified\n",
      "Optimal threshold set at 0.3854\n",
      "0.125% of proton showers are misclassified and 2.75% of gamma showers are miscalssified\n",
      "Total accuracy 98.5625%\n",
      "F1 score 0.9858\n",
      "The best threshold is in 0.319 where 0.0% of PS are misclassified and 1.695% of GS are miscalssified\n",
      "Optimal threshold set at 0.31920000000000004\n",
      "0.0% of proton showers are misclassified and 2.125% of gamma showers are miscalssified\n",
      "Total accuracy 98.9375%\n",
      "F1 score 0.9895\n",
      "The best threshold is in 0.48 where 0.0% of PS are misclassified and 2.119% of GS are miscalssified\n",
      "Optimal threshold set at 0.48000000000000004\n",
      "0.25% of proton showers are misclassified and 1.875% of gamma showers are miscalssified\n",
      "Total accuracy 98.9375%\n",
      "F1 score 0.9895\n",
      "The best threshold is in 0.581 where 0.0% of PS are misclassified and 0.415% of GS are miscalssified\n",
      "Optimal threshold set at 0.5810000000000001\n",
      "0.625% of proton showers are misclassified and 1.125% of gamma showers are miscalssified\n",
      "Total accuracy 99.125%\n",
      "F1 score 0.9913\n"
     ]
    }
   ],
   "source": [
    "test_sizes=[0,0.15,0.3]\n",
    "vals2={}\n",
    "vals4={}\n",
    "#all feautres\n",
    "x_data_2 =  all_ph[[\"muon_detector_array\",\"em_scintillator_array\"]].values\n",
    "\n",
    "#WARNING 2D visualization of classification impossible on more than 2 features\n",
    "x_data_4 =  all_ph[[\"muon_detector_array\",\"em_scintillator_array\",\"dt\",\"dxy\"]].values \n",
    "#target\n",
    "y_data = np.array([0 if d ==1 else 1 for d in all_ph[\"origin\"].values])#.reshape(-1,1)\n",
    "\n",
    "for ts in test_sizes:\n",
    "    \n",
    "    # classifier\n",
    "    clf_2 = event_classification.Logistic_probability_threshold(cv=15) #cross-val with cv k-folds\n",
    "    # train the model\n",
    "    clf_2.fit_model(x_data_2,y_data,test_s=ts)\n",
    "    \n",
    "    coefs_2 = clf_2.give_coefs()\n",
    "    evals_2 = clf_2.evaluate(x_data_2,y_data)\n",
    "    \n",
    "    # classifier\n",
    "    clf_4 = event_classification.Logistic_probability_threshold(cv=15) #cross-val with cv k-folds\n",
    "    # train the model\n",
    "    clf_4.fit_model(x_data_4,y_data,test_s=ts)\n",
    "    \n",
    "    coefs_4 = clf_4.give_coefs()\n",
    "    evals_4 = clf_4.evaluate(x_data_4,y_data)\n",
    "    \n",
    "    vals2[ts] = coefs_2+evals_2\n",
    "#    vals2[ts][[\"tau\",\"c0\",\"c1\",\"c2\"]] = coefs_2\n",
    "#    vals2[ts][[\"acc\",\"f1\",\"PSerror\",\"GSerror\"]] = evals_2\n",
    "    \n",
    "    vals4[ts] =  coefs_4+evals_4\n",
    "\n",
    "    \n",
    "    \n",
    "    \n",
    "    "
   ]
  },
  {
   "cell_type": "code",
   "execution_count": 17,
   "metadata": {},
   "outputs": [
    {
     "data": {
      "text/html": [
       "<div>\n",
       "<style scoped>\n",
       "    .dataframe tbody tr th:only-of-type {\n",
       "        vertical-align: middle;\n",
       "    }\n",
       "\n",
       "    .dataframe tbody tr th {\n",
       "        vertical-align: top;\n",
       "    }\n",
       "\n",
       "    .dataframe thead th {\n",
       "        text-align: right;\n",
       "    }\n",
       "</style>\n",
       "<table border=\"1\" class=\"dataframe\">\n",
       "  <thead>\n",
       "    <tr style=\"text-align: right;\">\n",
       "      <th></th>\n",
       "      <th>0.00</th>\n",
       "      <th>0.15</th>\n",
       "      <th>0.30</th>\n",
       "    </tr>\n",
       "  </thead>\n",
       "  <tbody>\n",
       "    <tr>\n",
       "      <th>0</th>\n",
       "      <td>0.213800</td>\n",
       "      <td>0.385400</td>\n",
       "      <td>0.480000</td>\n",
       "    </tr>\n",
       "    <tr>\n",
       "      <th>1</th>\n",
       "      <td>-2.376150</td>\n",
       "      <td>-2.299340</td>\n",
       "      <td>-1.103285</td>\n",
       "    </tr>\n",
       "    <tr>\n",
       "      <th>2</th>\n",
       "      <td>3.552025</td>\n",
       "      <td>3.366379</td>\n",
       "      <td>1.255171</td>\n",
       "    </tr>\n",
       "    <tr>\n",
       "      <th>3</th>\n",
       "      <td>-0.596310</td>\n",
       "      <td>-0.536045</td>\n",
       "      <td>-0.107115</td>\n",
       "    </tr>\n",
       "    <tr>\n",
       "      <th>4</th>\n",
       "      <td>0.946250</td>\n",
       "      <td>0.985625</td>\n",
       "      <td>0.989375</td>\n",
       "    </tr>\n",
       "    <tr>\n",
       "      <th>5</th>\n",
       "      <td>0.948992</td>\n",
       "      <td>0.985811</td>\n",
       "      <td>0.989461</td>\n",
       "    </tr>\n",
       "    <tr>\n",
       "      <th>6</th>\n",
       "      <td>0.000000</td>\n",
       "      <td>0.001250</td>\n",
       "      <td>0.002500</td>\n",
       "    </tr>\n",
       "    <tr>\n",
       "      <th>7</th>\n",
       "      <td>0.107500</td>\n",
       "      <td>0.027500</td>\n",
       "      <td>0.018750</td>\n",
       "    </tr>\n",
       "  </tbody>\n",
       "</table>\n",
       "</div>"
      ],
      "text/plain": [
       "       0.00      0.15      0.30\n",
       "0  0.213800  0.385400  0.480000\n",
       "1 -2.376150 -2.299340 -1.103285\n",
       "2  3.552025  3.366379  1.255171\n",
       "3 -0.596310 -0.536045 -0.107115\n",
       "4  0.946250  0.985625  0.989375\n",
       "5  0.948992  0.985811  0.989461\n",
       "6  0.000000  0.001250  0.002500\n",
       "7  0.107500  0.027500  0.018750"
      ]
     },
     "execution_count": 17,
     "metadata": {},
     "output_type": "execute_result"
    }
   ],
   "source": [
    "pd.DataFrame(vals2)"
   ]
  },
  {
   "cell_type": "code",
   "execution_count": 18,
   "metadata": {},
   "outputs": [
    {
     "data": {
      "text/html": [
       "<div>\n",
       "<style scoped>\n",
       "    .dataframe tbody tr th:only-of-type {\n",
       "        vertical-align: middle;\n",
       "    }\n",
       "\n",
       "    .dataframe tbody tr th {\n",
       "        vertical-align: top;\n",
       "    }\n",
       "\n",
       "    .dataframe thead th {\n",
       "        text-align: right;\n",
       "    }\n",
       "</style>\n",
       "<table border=\"1\" class=\"dataframe\">\n",
       "  <thead>\n",
       "    <tr style=\"text-align: right;\">\n",
       "      <th></th>\n",
       "      <th>0.00</th>\n",
       "      <th>0.15</th>\n",
       "      <th>0.30</th>\n",
       "    </tr>\n",
       "  </thead>\n",
       "  <tbody>\n",
       "    <tr>\n",
       "      <th>0</th>\n",
       "      <td>0.428000</td>\n",
       "      <td>0.319200</td>\n",
       "      <td>0.581000</td>\n",
       "    </tr>\n",
       "    <tr>\n",
       "      <th>1</th>\n",
       "      <td>-5.963092</td>\n",
       "      <td>-5.781823</td>\n",
       "      <td>-5.574101</td>\n",
       "    </tr>\n",
       "    <tr>\n",
       "      <th>2</th>\n",
       "      <td>2.961363</td>\n",
       "      <td>2.840936</td>\n",
       "      <td>2.644354</td>\n",
       "    </tr>\n",
       "    <tr>\n",
       "      <th>3</th>\n",
       "      <td>-0.826851</td>\n",
       "      <td>-0.726972</td>\n",
       "      <td>-0.655791</td>\n",
       "    </tr>\n",
       "    <tr>\n",
       "      <th>4</th>\n",
       "      <td>1.236187</td>\n",
       "      <td>1.180479</td>\n",
       "      <td>1.137012</td>\n",
       "    </tr>\n",
       "    <tr>\n",
       "      <th>5</th>\n",
       "      <td>0.600440</td>\n",
       "      <td>0.550575</td>\n",
       "      <td>0.524013</td>\n",
       "    </tr>\n",
       "    <tr>\n",
       "      <th>6</th>\n",
       "      <td>0.993125</td>\n",
       "      <td>0.989375</td>\n",
       "      <td>0.991250</td>\n",
       "    </tr>\n",
       "    <tr>\n",
       "      <th>7</th>\n",
       "      <td>0.993172</td>\n",
       "      <td>0.989487</td>\n",
       "      <td>0.991272</td>\n",
       "    </tr>\n",
       "    <tr>\n",
       "      <th>8</th>\n",
       "      <td>0.000000</td>\n",
       "      <td>0.000000</td>\n",
       "      <td>0.006250</td>\n",
       "    </tr>\n",
       "    <tr>\n",
       "      <th>9</th>\n",
       "      <td>0.013750</td>\n",
       "      <td>0.021250</td>\n",
       "      <td>0.011250</td>\n",
       "    </tr>\n",
       "  </tbody>\n",
       "</table>\n",
       "</div>"
      ],
      "text/plain": [
       "       0.00      0.15      0.30\n",
       "0  0.428000  0.319200  0.581000\n",
       "1 -5.963092 -5.781823 -5.574101\n",
       "2  2.961363  2.840936  2.644354\n",
       "3 -0.826851 -0.726972 -0.655791\n",
       "4  1.236187  1.180479  1.137012\n",
       "5  0.600440  0.550575  0.524013\n",
       "6  0.993125  0.989375  0.991250\n",
       "7  0.993172  0.989487  0.991272\n",
       "8  0.000000  0.000000  0.006250\n",
       "9  0.013750  0.021250  0.011250"
      ]
     },
     "execution_count": 18,
     "metadata": {},
     "output_type": "execute_result"
    }
   ],
   "source": [
    "pd.DataFrame(vals4)"
   ]
  },
  {
   "cell_type": "code",
   "execution_count": null,
   "metadata": {},
   "outputs": [],
   "source": []
  }
 ],
 "metadata": {
  "kernelspec": {
   "display_name": "Python 3",
   "language": "python",
   "name": "python3"
  },
  "language_info": {
   "codemirror_mode": {
    "name": "ipython",
    "version": 3
   },
   "file_extension": ".py",
   "mimetype": "text/x-python",
   "name": "python",
   "nbconvert_exporter": "python",
   "pygments_lexer": "ipython3",
   "version": "3.8.5"
  }
 },
 "nbformat": 4,
 "nbformat_minor": 4
}
